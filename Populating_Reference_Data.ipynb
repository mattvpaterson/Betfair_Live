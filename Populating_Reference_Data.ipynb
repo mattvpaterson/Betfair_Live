{
 "cells": [
  {
   "cell_type": "code",
   "execution_count": null,
   "metadata": {},
   "outputs": [],
   "source": [
    "# https://api.betfair.com/exchange/betting/rest/v1.0/\t \tlistMarketBook/\n",
    "# JSON REST\thttps://api.betfair.com/exchange/account/rest/v1.0\t \tgetAccountFunds/\n",
    "# https://api.betfair.com/exchange/betting/rest/v1.0/listEventTypes/"
   ]
  },
  {
   "cell_type": "code",
   "execution_count": 7,
   "metadata": {},
   "outputs": [
    {
     "name": "stdout",
     "output_type": "stream",
     "text": [
      "The autoreload extension is already loaded. To reload it, use:\n",
      "  %reload_ext autoreload\n"
     ]
    }
   ],
   "source": [
    "import sqlite3\n",
    "import pandas as pd\n",
    "import requests\n",
    "import json\n",
    "from mysecrets import *\n",
    "from helper_functions import *\n",
    "\n",
    "%load_ext autoreload\n",
    "%autoreload 2"
   ]
  },
  {
   "cell_type": "code",
   "execution_count": 9,
   "metadata": {},
   "outputs": [],
   "source": [
    "def market_cleaner(example):\n",
    "    #keeps on the fields we want in the market dict and runners sub_dict for market storage\n",
    "    clean = dictionary_key_filter(example,['marketId','marketName','marketStartTime','runners'])\n",
    "    clean['runners'] = [dictionary_key_filter(runner,['selectionId','runnerName']) for runner in clean['runners']]\n",
    "    clean['runners'] = [lowercase_values(runner) for runner in clean['runners']]\n",
    "    return clean\n",
    "\n",
    "def market_name_check(market_name):\n",
    "    #check for main markets with the standard name format e.g. '2m1f Hcap' not 'To Be Placed'\n",
    "    return market_name[0].isnumeric()*market_name[1].isalpha()"
   ]
  },
  {
   "cell_type": "markdown",
   "metadata": {},
   "source": [
    "## Finding Event IDs"
   ]
  },
  {
   "cell_type": "code",
   "execution_count": 10,
   "metadata": {},
   "outputs": [],
   "source": [
    "events = get_call(app_key,session_token,\"listEvents/\",'{\"filter\":{\"eventTypeIds\":[7],\"marketTypeCodes\":[\"WIN\"],\"marketCountries\":[\"GB\",\"IE\"]}}')\n",
    "events = [dictionary_key_filter(event['event'],['id','countryCode','venue','openDate']) for event in events]\n",
    "events = [lowercase_values(event) for event in events]\n",
    "\n",
    "for event in events:\n",
    "    event['openDate'] = event['openDate'][:10]\n",
    "    event = lowercase_values(event)"
   ]
  },
  {
   "cell_type": "markdown",
   "metadata": {},
   "source": [
    "## Required SQL"
   ]
  },
  {
   "cell_type": "code",
   "execution_count": 11,
   "metadata": {},
   "outputs": [],
   "source": [
    "connection = sqlite3.connect('info.db')\n",
    "cursor = connection.cursor()\n",
    "insert_race_query = \"INSERT INTO races VALUES (?,?,?,?,?,?,?,?,?,?,?,?,?,?,?,?,?)\"\n",
    "insert_runner_query = \"INSERT INTO runners VALUES (?,?,?,?,?,?,?,?,?,?,?,?)\""
   ]
  },
  {
   "cell_type": "code",
   "execution_count": 12,
   "metadata": {},
   "outputs": [],
   "source": [
    "# create_table = (\"CREATE TABLE races (event_id int, market_id real, country text, venue text, name text, date text,\" +\n",
    "#                 \"time text, number_runners int, type text , going text, yards int, seconds real, total_vol real, private_vol real,\" + \n",
    "#                 \"pnl real, order_count int, bet_count int)\")\n",
    "# cursor.execute(create_table)"
   ]
  },
  {
   "cell_type": "code",
   "execution_count": 20,
   "metadata": {},
   "outputs": [],
   "source": [
    "# create_table = (\"CREATE TABLE runners (market_id real, selection_id int, runner_name text, weight_lbs real,\" +\n",
    "#                 \"jockey text, individual_speed real, win_lose int, bsp real, ppwap real, ppmin real,\" +\n",
    "#                 \"ppmax real, pptradedvol real)\")\n",
    "# cursor.execute(create_table)"
   ]
  },
  {
   "cell_type": "markdown",
   "metadata": {},
   "source": [
    "# Adding races of multiple events"
   ]
  },
  {
   "cell_type": "code",
   "execution_count": 21,
   "metadata": {},
   "outputs": [],
   "source": [
    "for event in events:\n",
    "    event_id = event['id']\n",
    "    result = get_call(app_key,session_token,\"listMarketCatalogue/\",'{\"filter\":{\"eventIds\": [\"'+event_id+'\"]},\"maxResults\": \"100\",\"marketProjection\": [\"COMPETITION\",\"EVENT\",\"EVENT_TYPE\",\"RUNNER_DESCRIPTION\",\"MARKET_START_TIME\"]}')\n",
    "    #checking of the standard name format 2fxxxx or 3mxxxx\n",
    "    lst = [market for market in result if market['marketName'][0].isnumeric()*market['marketName'][1].isalpha()] \n",
    "    lst = [market_cleaner(market) for market in lst]\n",
    "    for market in lst: #seperating marketStartTime into Date & Time\n",
    "        market['marketdate'] = market['marketStartTime'][:10]\n",
    "        market['marketStartTime'] = market['marketStartTime'][11:19]\n",
    "        market['marketName'] = market['marketName'].lower()\n",
    "    \n",
    "    for market in lst:\n",
    "        race = (event['id'],market['marketId'],event['countryCode'],event['venue'],\n",
    "                market['marketName'],market['marketdate'],market['marketStartTime'],len(market['runners']),\n",
    "               None,None,None,None,None,None,None,None,None)\n",
    "        cursor.execute(insert_race_query, race)"
   ]
  },
  {
   "cell_type": "code",
   "execution_count": 22,
   "metadata": {},
   "outputs": [],
   "source": [
    "# # Finding duplicates on duplicate market_id\n",
    "# dupes = pd.read_sql_query(\"SELECT * FROM races WHERE EXISTS (SELECT 1 FROM races p2 WHERE races.market_id = p2.market_id AND races.rowid > p2.rowid);\", connection)\n",
    "# dupes"
   ]
  },
  {
   "cell_type": "code",
   "execution_count": 23,
   "metadata": {},
   "outputs": [],
   "source": [
    "# Deleting duplicates on duplicate market_id\n",
    "try:\n",
    "    pd.read_sql_query(\"DELETE FROM races WHERE EXISTS (SELECT 1 FROM races p2 WHERE races.market_id = p2.market_id AND races.rowid > p2.rowid);\", connection)\n",
    "except:\n",
    "    pass"
   ]
  },
  {
   "cell_type": "markdown",
   "metadata": {},
   "source": [
    "## Filtering Markets on Event ID (Adding Runners)"
   ]
  },
  {
   "cell_type": "code",
   "execution_count": 24,
   "metadata": {},
   "outputs": [],
   "source": [
    "for event in events:\n",
    "    event_id = event['id']\n",
    "    result = get_call(app_key,session_token,\"listMarketCatalogue/\",'{\"filter\":{\"eventIds\": [\"'+event_id+'\"]},\"maxResults\": \"100\",\"marketProjection\": [\"COMPETITION\",\"EVENT\",\"EVENT_TYPE\",\"RUNNER_DESCRIPTION\",\"MARKET_START_TIME\"]}')\n",
    "    #checking of the standard name format 2fxxxx or 3mxxxx\n",
    "    lst = [market for market in result if market['marketName'][0].isnumeric()*market['marketName'][1].isalpha() ] \n",
    "    lst = [market_cleaner(market) for market in lst]\n",
    "    lst = [dictionary_key_filter(market,['marketId','runners']) for market in lst]\n",
    "        \n",
    "    for market in lst:\n",
    "        for runner in market['runners']:\n",
    "            record = (market['marketId'], runner['selectionId'], runner['runnerName'].lower(), \n",
    "                      None,None,None,None,None,None,None,None,None)\n",
    "            cursor.execute(insert_runner_query, record)"
   ]
  },
  {
   "cell_type": "code",
   "execution_count": 25,
   "metadata": {},
   "outputs": [],
   "source": [
    "# Finding duplicates on duplicate market_id & selection_id\n",
    "# pd.read_sql_query(\"SELECT * FROM runners WHERE EXISTS (SELECT 1 FROM runners p2 WHERE runners.market_id = p2.market_id AND runners.selection_id = p2.selection_id AND runners.rowid > p2.rowid);\", connection)"
   ]
  },
  {
   "cell_type": "code",
   "execution_count": 26,
   "metadata": {},
   "outputs": [],
   "source": [
    "# Deleting duplicates on duplicate market_id\n",
    "try:\n",
    "    pd.read_sql_query(\"DELETE FROM runners WHERE EXISTS (SELECT 1 FROM runners p2 WHERE runners.market_id = p2.market_id AND runners.selection_id = p2.selection_id AND runners.rowid > p2.rowid);\", connection)\n",
    "except:\n",
    "    pass"
   ]
  },
  {
   "cell_type": "markdown",
   "metadata": {},
   "source": [
    "# Final Results"
   ]
  },
  {
   "cell_type": "code",
   "execution_count": 27,
   "metadata": {},
   "outputs": [
    {
     "data": {
      "text/html": [
       "<div>\n",
       "<style scoped>\n",
       "    .dataframe tbody tr th:only-of-type {\n",
       "        vertical-align: middle;\n",
       "    }\n",
       "\n",
       "    .dataframe tbody tr th {\n",
       "        vertical-align: top;\n",
       "    }\n",
       "\n",
       "    .dataframe thead th {\n",
       "        text-align: right;\n",
       "    }\n",
       "</style>\n",
       "<table border=\"1\" class=\"dataframe\">\n",
       "  <thead>\n",
       "    <tr style=\"text-align: right;\">\n",
       "      <th></th>\n",
       "      <th>event_id</th>\n",
       "      <th>market_id</th>\n",
       "      <th>country</th>\n",
       "      <th>venue</th>\n",
       "      <th>name</th>\n",
       "      <th>date</th>\n",
       "      <th>time</th>\n",
       "      <th>number_runners</th>\n",
       "      <th>type</th>\n",
       "      <th>going</th>\n",
       "      <th>yards</th>\n",
       "      <th>seconds</th>\n",
       "      <th>total_vol</th>\n",
       "      <th>private_vol</th>\n",
       "      <th>pnl</th>\n",
       "      <th>order_count</th>\n",
       "      <th>bet_count</th>\n",
       "    </tr>\n",
       "  </thead>\n",
       "  <tbody>\n",
       "    <tr>\n",
       "      <th>0</th>\n",
       "      <td>31593986</td>\n",
       "      <td>1.201095</td>\n",
       "      <td>ie</td>\n",
       "      <td>tipperary</td>\n",
       "      <td>2m1f beg chs</td>\n",
       "      <td>2022-07-17</td>\n",
       "      <td>12:50:00</td>\n",
       "      <td>9</td>\n",
       "      <td>None</td>\n",
       "      <td>None</td>\n",
       "      <td>None</td>\n",
       "      <td>None</td>\n",
       "      <td>None</td>\n",
       "      <td>None</td>\n",
       "      <td>None</td>\n",
       "      <td>None</td>\n",
       "      <td>None</td>\n",
       "    </tr>\n",
       "    <tr>\n",
       "      <th>1</th>\n",
       "      <td>31593986</td>\n",
       "      <td>1.201095</td>\n",
       "      <td>ie</td>\n",
       "      <td>tipperary</td>\n",
       "      <td>2m1f beg chs</td>\n",
       "      <td>2022-07-17</td>\n",
       "      <td>13:22:00</td>\n",
       "      <td>8</td>\n",
       "      <td>None</td>\n",
       "      <td>None</td>\n",
       "      <td>None</td>\n",
       "      <td>None</td>\n",
       "      <td>None</td>\n",
       "      <td>None</td>\n",
       "      <td>None</td>\n",
       "      <td>None</td>\n",
       "      <td>None</td>\n",
       "    </tr>\n",
       "    <tr>\n",
       "      <th>2</th>\n",
       "      <td>31593986</td>\n",
       "      <td>1.201095</td>\n",
       "      <td>ie</td>\n",
       "      <td>tipperary</td>\n",
       "      <td>2m1f hcap chs</td>\n",
       "      <td>2022-07-17</td>\n",
       "      <td>13:57:00</td>\n",
       "      <td>10</td>\n",
       "      <td>None</td>\n",
       "      <td>None</td>\n",
       "      <td>None</td>\n",
       "      <td>None</td>\n",
       "      <td>None</td>\n",
       "      <td>None</td>\n",
       "      <td>None</td>\n",
       "      <td>None</td>\n",
       "      <td>None</td>\n",
       "    </tr>\n",
       "    <tr>\n",
       "      <th>3</th>\n",
       "      <td>31593986</td>\n",
       "      <td>1.201095</td>\n",
       "      <td>ie</td>\n",
       "      <td>tipperary</td>\n",
       "      <td>2m7f hcap chs</td>\n",
       "      <td>2022-07-17</td>\n",
       "      <td>14:32:00</td>\n",
       "      <td>14</td>\n",
       "      <td>None</td>\n",
       "      <td>None</td>\n",
       "      <td>None</td>\n",
       "      <td>None</td>\n",
       "      <td>None</td>\n",
       "      <td>None</td>\n",
       "      <td>None</td>\n",
       "      <td>None</td>\n",
       "      <td>None</td>\n",
       "    </tr>\n",
       "    <tr>\n",
       "      <th>4</th>\n",
       "      <td>31593986</td>\n",
       "      <td>1.201095</td>\n",
       "      <td>ie</td>\n",
       "      <td>tipperary</td>\n",
       "      <td>2m3f nov chs</td>\n",
       "      <td>2022-07-17</td>\n",
       "      <td>15:07:00</td>\n",
       "      <td>6</td>\n",
       "      <td>None</td>\n",
       "      <td>None</td>\n",
       "      <td>None</td>\n",
       "      <td>None</td>\n",
       "      <td>None</td>\n",
       "      <td>None</td>\n",
       "      <td>None</td>\n",
       "      <td>None</td>\n",
       "      <td>None</td>\n",
       "    </tr>\n",
       "  </tbody>\n",
       "</table>\n",
       "</div>"
      ],
      "text/plain": [
       "   event_id  market_id country      venue           name        date  \\\n",
       "0  31593986   1.201095      ie  tipperary   2m1f beg chs  2022-07-17   \n",
       "1  31593986   1.201095      ie  tipperary   2m1f beg chs  2022-07-17   \n",
       "2  31593986   1.201095      ie  tipperary  2m1f hcap chs  2022-07-17   \n",
       "3  31593986   1.201095      ie  tipperary  2m7f hcap chs  2022-07-17   \n",
       "4  31593986   1.201095      ie  tipperary   2m3f nov chs  2022-07-17   \n",
       "\n",
       "       time  number_runners  type going yards seconds total_vol private_vol  \\\n",
       "0  12:50:00               9  None  None  None    None      None        None   \n",
       "1  13:22:00               8  None  None  None    None      None        None   \n",
       "2  13:57:00              10  None  None  None    None      None        None   \n",
       "3  14:32:00              14  None  None  None    None      None        None   \n",
       "4  15:07:00               6  None  None  None    None      None        None   \n",
       "\n",
       "    pnl order_count bet_count  \n",
       "0  None        None      None  \n",
       "1  None        None      None  \n",
       "2  None        None      None  \n",
       "3  None        None      None  \n",
       "4  None        None      None  "
      ]
     },
     "execution_count": 27,
     "metadata": {},
     "output_type": "execute_result"
    }
   ],
   "source": [
    "#Final Table\n",
    "pd.read_sql_query(\"SELECT * FROM races\", connection).head()"
   ]
  },
  {
   "cell_type": "code",
   "execution_count": 29,
   "metadata": {},
   "outputs": [
    {
     "data": {
      "text/html": [
       "<div>\n",
       "<style scoped>\n",
       "    .dataframe tbody tr th:only-of-type {\n",
       "        vertical-align: middle;\n",
       "    }\n",
       "\n",
       "    .dataframe tbody tr th {\n",
       "        vertical-align: top;\n",
       "    }\n",
       "\n",
       "    .dataframe thead th {\n",
       "        text-align: right;\n",
       "    }\n",
       "</style>\n",
       "<table border=\"1\" class=\"dataframe\">\n",
       "  <thead>\n",
       "    <tr style=\"text-align: right;\">\n",
       "      <th></th>\n",
       "      <th>market_id</th>\n",
       "      <th>selection_id</th>\n",
       "      <th>runner_name</th>\n",
       "      <th>weight_lbs</th>\n",
       "      <th>jockey</th>\n",
       "      <th>individual_speed</th>\n",
       "      <th>win_lose</th>\n",
       "      <th>bsp</th>\n",
       "      <th>ppwap</th>\n",
       "      <th>ppmin</th>\n",
       "      <th>ppmax</th>\n",
       "      <th>pptradedvol</th>\n",
       "    </tr>\n",
       "  </thead>\n",
       "  <tbody>\n",
       "    <tr>\n",
       "      <th>0</th>\n",
       "      <td>1.201095</td>\n",
       "      <td>34992494</td>\n",
       "      <td>mighty meggsie</td>\n",
       "      <td>None</td>\n",
       "      <td>None</td>\n",
       "      <td>None</td>\n",
       "      <td>None</td>\n",
       "      <td>None</td>\n",
       "      <td>None</td>\n",
       "      <td>None</td>\n",
       "      <td>None</td>\n",
       "      <td>None</td>\n",
       "    </tr>\n",
       "    <tr>\n",
       "      <th>1</th>\n",
       "      <td>1.201095</td>\n",
       "      <td>21679977</td>\n",
       "      <td>highstreet roller</td>\n",
       "      <td>None</td>\n",
       "      <td>None</td>\n",
       "      <td>None</td>\n",
       "      <td>None</td>\n",
       "      <td>None</td>\n",
       "      <td>None</td>\n",
       "      <td>None</td>\n",
       "      <td>None</td>\n",
       "      <td>None</td>\n",
       "    </tr>\n",
       "    <tr>\n",
       "      <th>2</th>\n",
       "      <td>1.201095</td>\n",
       "      <td>27335411</td>\n",
       "      <td>raven rule</td>\n",
       "      <td>None</td>\n",
       "      <td>None</td>\n",
       "      <td>None</td>\n",
       "      <td>None</td>\n",
       "      <td>None</td>\n",
       "      <td>None</td>\n",
       "      <td>None</td>\n",
       "      <td>None</td>\n",
       "      <td>None</td>\n",
       "    </tr>\n",
       "    <tr>\n",
       "      <th>3</th>\n",
       "      <td>1.201095</td>\n",
       "      <td>33956</td>\n",
       "      <td>family business</td>\n",
       "      <td>None</td>\n",
       "      <td>None</td>\n",
       "      <td>None</td>\n",
       "      <td>None</td>\n",
       "      <td>None</td>\n",
       "      <td>None</td>\n",
       "      <td>None</td>\n",
       "      <td>None</td>\n",
       "      <td>None</td>\n",
       "    </tr>\n",
       "    <tr>\n",
       "      <th>4</th>\n",
       "      <td>1.201095</td>\n",
       "      <td>41337933</td>\n",
       "      <td>reine machine</td>\n",
       "      <td>None</td>\n",
       "      <td>None</td>\n",
       "      <td>None</td>\n",
       "      <td>None</td>\n",
       "      <td>None</td>\n",
       "      <td>None</td>\n",
       "      <td>None</td>\n",
       "      <td>None</td>\n",
       "      <td>None</td>\n",
       "    </tr>\n",
       "  </tbody>\n",
       "</table>\n",
       "</div>"
      ],
      "text/plain": [
       "   market_id  selection_id        runner_name weight_lbs jockey  \\\n",
       "0   1.201095      34992494     mighty meggsie       None   None   \n",
       "1   1.201095      21679977  highstreet roller       None   None   \n",
       "2   1.201095      27335411         raven rule       None   None   \n",
       "3   1.201095         33956    family business       None   None   \n",
       "4   1.201095      41337933      reine machine       None   None   \n",
       "\n",
       "  individual_speed win_lose   bsp ppwap ppmin ppmax pptradedvol  \n",
       "0             None     None  None  None  None  None        None  \n",
       "1             None     None  None  None  None  None        None  \n",
       "2             None     None  None  None  None  None        None  \n",
       "3             None     None  None  None  None  None        None  \n",
       "4             None     None  None  None  None  None        None  "
      ]
     },
     "execution_count": 29,
     "metadata": {},
     "output_type": "execute_result"
    }
   ],
   "source": [
    "#final table\n",
    "pd.read_sql_query(\"SELECT * FROM runners\", connection).head()"
   ]
  },
  {
   "cell_type": "markdown",
   "metadata": {},
   "source": [
    "# Keep Alive"
   ]
  },
  {
   "cell_type": "code",
   "execution_count": 30,
   "metadata": {},
   "outputs": [
    {
     "name": "stdout",
     "output_type": "stream",
     "text": [
      "SessionKey refresh: <Response [200]>\n"
     ]
    }
   ],
   "source": [
    "keep_alive(app_key,session_token)"
   ]
  }
 ],
 "metadata": {
  "kernelspec": {
   "display_name": "Python 3",
   "language": "python",
   "name": "python3"
  },
  "language_info": {
   "codemirror_mode": {
    "name": "ipython",
    "version": 3
   },
   "file_extension": ".py",
   "mimetype": "text/x-python",
   "name": "python",
   "nbconvert_exporter": "python",
   "pygments_lexer": "ipython3",
   "version": "3.7.4"
  }
 },
 "nbformat": 4,
 "nbformat_minor": 2
}
